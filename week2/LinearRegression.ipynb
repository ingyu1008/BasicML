{
 "cells": [
  {
   "cell_type": "markdown",
   "metadata": {},
   "source": [
    "Import libraries we will use"
   ]
  },
  {
   "cell_type": "code",
   "execution_count": 1,
   "metadata": {},
   "outputs": [],
   "source": [
    "import numpy as np\n",
    "import pandas as pd\n",
    "import matplotlib.pyplot as plt"
   ]
  },
  {
   "cell_type": "markdown",
   "metadata": {},
   "source": [
    "Now we can read our data from files\n",
    "\n",
    "`train_data` is data with some noises which we will learn from.\n",
    "\n",
    "`val_data` is data with no noises and we can calculate cost function from it to evaluate our model."
   ]
  },
  {
   "cell_type": "code",
   "execution_count": 2,
   "metadata": {},
   "outputs": [],
   "source": [
    "train_data = pd.read_csv(\"train_data.txt\", sep=\" \", header=None)\n",
    "val_data = pd.read_csv(\"val_data.txt\", sep=\" \", header=None)"
   ]
  },
  {
   "cell_type": "markdown",
   "metadata": {},
   "source": [
    "And define some variables"
   ]
  },
  {
   "cell_type": "code",
   "execution_count": 3,
   "metadata": {},
   "outputs": [],
   "source": [
    "train_X = np.array(train_data[[0]]).reshape(-1, 1)\n",
    "train_y = np.array(train_data[[1]]).reshape(-1, 1)\n",
    "val_X = np.array(val_data[[0]]).reshape(-1, 1)\n",
    "val_y = np.array(val_data[[1]]).reshape(-1, 1)"
   ]
  },
  {
   "cell_type": "markdown",
   "metadata": {},
   "source": [
    "`plot()` function is to graphically see what has happened.\n",
    "\n",
    "we will only use this function on 1-variable linear regression since it will be hard to visualize 2 or more features on a 2d monitor."
   ]
  },
  {
   "cell_type": "code",
   "execution_count": 4,
   "metadata": {},
   "outputs": [],
   "source": [
    "def plot(theta, mu, sigma):\n",
    "    plt.scatter((train_data[[0]]- mu)/sigma, train_data[[1]])\n",
    "    plt.plot((val_data[[0]] - mu) / sigma, val_data[[1]], color=\"y\")\n",
    "    xx = np.linspace(0, 10000, 1000)\n",
    "    plt.plot((xx - mu) / sigma, theta[0][0] + (xx- mu)/sigma*theta[1][0], color=\"r\")\n",
    "\n",
    "    plt.show()"
   ]
  },
  {
   "cell_type": "markdown",
   "metadata": {},
   "source": [
    "Next is the most important code of all in this notebook.\n",
    "\n",
    "With `X`, `y` and `theta` provided, we can perform gradient descent to find optimum solution.\n",
    "\n",
    "Vectorization has been used to make the code shorter and to improve readability "
   ]
  },
  {
   "cell_type": "code",
   "execution_count": 5,
   "metadata": {},
   "outputs": [],
   "source": [
    "def gradientDescent(X, y, theta, alpha, num_iters):\n",
    "    m = len(y)\n",
    "\n",
    "    for _ in range(num_iters):\n",
    "        h = X @ theta  # m x 1 matrix\n",
    "        delta = (np.transpose(X) @ np.subtract(h, y)) / m  # 2 x 1 matrix\n",
    "        theta = np.subtract(theta, alpha*delta)\n",
    "\n",
    "    return theta"
   ]
  },
  {
   "cell_type": "markdown",
   "metadata": {},
   "source": [
    "Before we do actual gradient descent, it is important that we normalized our feature matrix.\n",
    "\n",
    "Without normalization, it will take longer path around in order to get to the optimum solution."
   ]
  },
  {
   "cell_type": "code",
   "execution_count": 6,
   "metadata": {},
   "outputs": [],
   "source": [
    "mu = np.average(train_X)\n",
    "sigma = np.std(train_X)\n",
    "train_X = (train_X - mu)/sigma\n",
    "train_X = np.c_[np.ones((len(train_X))), train_X]"
   ]
  },
  {
   "cell_type": "markdown",
   "metadata": {},
   "source": [
    "Finally, run the gradient descent and plot the result"
   ]
  },
  {
   "cell_type": "code",
   "execution_count": 7,
   "metadata": {},
   "outputs": [
    {
     "data": {
      "image/png": "[encoded data removed]",
      "text/plain": [
       "<Figure size 432x288 with 1 Axes>"
      ]
     },
     "metadata": {
      "needs_background": "light"
     },
     "output_type": "display_data"
    }
   ],
   "source": [
    "theta = gradientDescent(train_X, train_y, [[0], [0]], 1, 1000)\n",
    "plot(theta, mu, sigma)"
   ]
  },
  {
   "cell_type": "markdown",
   "metadata": {},
   "source": [
    "Now let's calculate our model's error with MSE(Mean Squared Error) and MAE(Mean Absolute Error)."
   ]
  },
  {
   "cell_type": "code",
   "execution_count": 8,
   "metadata": {},
   "outputs": [],
   "source": [
    "def meanSquaredError(X, y, theta):\n",
    "    E = (X @ theta)-y\n",
    "    return (np.transpose(E) @ E)[0,0] / (2*y.size)\n",
    "def meanAbsoluteError(X, y, theta):\n",
    "    return np.average(np.absolute((X @ theta)-y))"
   ]
  },
  {
   "cell_type": "code",
   "execution_count": 9,
   "metadata": {},
   "outputs": [],
   "source": [
    "val_X = (val_X - mu) / sigma\n",
    "val_X = np.c_[np.ones((len(val_X))), val_X]"
   ]
  },
  {
   "cell_type": "code",
   "execution_count": 10,
   "metadata": {},
   "outputs": [
    {
     "name": "stdout",
     "output_type": "stream",
     "text": [
      "900464.4295451514\n",
      "1129.7882431770167\n"
     ]
    }
   ],
   "source": [
    "print(meanSquaredError(val_X, val_y, theta))\n",
    "print(meanAbsoluteError(val_X, val_y, theta))"
   ]
  }
 ],
 "metadata": {
  "interpreter": {
   "hash": "97812642d8cd8c8949e7973a11f436c182c187c2196ecb37ea708b3b465500c8"
  },
  "kernelspec": {
   "display_name": "Python 3.8.2 64-bit",
   "name": "python3"
  },
  "language_info": {
   "codemirror_mode": {
    "name": "ipython",
    "version": 3
   },
   "file_extension": ".py",
   "mimetype": "text/x-python",
   "name": "python",
   "nbconvert_exporter": "python",
   "pygments_lexer": "ipython3",
   "version": "3.8.2"
  },
  "orig_nbformat": 4
 },
 "nbformat": 4,
 "nbformat_minor": 2
}