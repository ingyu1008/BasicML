{
 "cells": [
  {
   "cell_type": "markdown",
   "metadata": {},
   "source": [
    "Import libraries we will use"
   ]
  },
  {
   "cell_type": "code",
   "execution_count": 1,
   "metadata": {},
   "outputs": [],
   "source": [
    "import numpy as np\r\n",
    "import pandas as pd\r\n",
    "import matplotlib.pyplot as plt\r\n"
   ]
  },
  {
   "cell_type": "markdown",
   "metadata": {},
   "source": [
    "Now we can read our data from files\n",
    "\n",
    "`train_data` is data with some noises which we will learn from.\n",
    "\n",
    "`val_data` is data with no noises and we can calculate cost function from it to evaluate our model."
   ]
  },
  {
   "cell_type": "code",
   "execution_count": 2,
   "metadata": {},
   "outputs": [],
   "source": [
    "train_data = pd.read_csv(\"train_data.txt\", sep=\" \", header=None)\r\n",
    "val_data = pd.read_csv(\"val_data.txt\", sep=\" \", header=None)\r\n"
   ]
  },
  {
   "cell_type": "markdown",
   "metadata": {},
   "source": [
    "And define some variables"
   ]
  },
  {
   "cell_type": "code",
   "execution_count": 3,
   "metadata": {},
   "outputs": [],
   "source": [
    "train_X = np.array(train_data[[0]]).reshape(-1, 1)\r\n",
    "train_y = np.array(train_data[[1]]).reshape(-1, 1)\r\n",
    "val_X = np.array(val_data[[0]]).reshape(-1, 1)\r\n",
    "val_y = np.array(val_data[[1]]).reshape(-1, 1)\r\n"
   ]
  },
  {
   "cell_type": "markdown",
   "metadata": {},
   "source": [
    "`plot()` function is to graphically see what has happened.\n",
    "\n",
    "we will only use this function on 1-variable linear regression since it will be hard to visualize 2 or more features on a 2d monitor."
   ]
  },
  {
   "cell_type": "code",
   "execution_count": 4,
   "metadata": {},
   "outputs": [],
   "source": [
    "def plot(theta, mu, sigma):\r\n",
    "    plt.scatter(train_data[[0]], train_data[[1]])\r\n",
    "    plt.plot(val_data[[0]], val_data[[1]], color=\"y\")\r\n",
    "    xx = np.linspace(0, 10000, 1000)\r\n",
    "    plt.plot(xx, theta[0][0] +\r\n",
    "             (xx - mu)/sigma*theta[1][0], color=\"r\")\r\n",
    "\r\n",
    "    plt.show()\r\n"
   ]
  },
  {
   "cell_type": "markdown",
   "metadata": {},
   "source": [
    "Next is the most important code of all in this notebook.\n",
    "\n",
    "With `X`, `y` and `theta` provided, we can perform gradient descent to find optimum solution.\n",
    "\n",
    "Vectorization has been used to make the code shorter and to improve readability "
   ]
  },
  {
   "cell_type": "code",
   "execution_count": 5,
   "metadata": {},
   "outputs": [],
   "source": [
    "def gradientDescent(X, y, theta, alpha, num_iters):\r\n",
    "    m = len(y)\r\n",
    "\r\n",
    "    for _ in range(num_iters):\r\n",
    "        h = X @ theta  # m x 1 matrix\r\n",
    "        delta = (X.T @ (h - y)) / m  # 2 x 1 matrix\r\n",
    "        theta = theta - alpha*delta\r\n",
    "\r\n",
    "    return theta\r\n"
   ]
  },
  {
   "cell_type": "markdown",
   "metadata": {},
   "source": [
    "Before we do actual gradient descent, it is important that we normalized our feature matrix.\n",
    "\n",
    "Without normalization, it will take longer path around in order to get to the optimum solution."
   ]
  },
  {
   "cell_type": "code",
   "execution_count": 6,
   "metadata": {},
   "outputs": [],
   "source": [
    "mu = np.mean(train_X)\r\n",
    "sigma = np.std(train_X)\r\n",
    "train_X = (train_X - mu)/sigma\r\n",
    "train_X = np.c_[np.ones((len(train_X))), train_X]\r\n"
   ]
  },
  {
   "cell_type": "markdown",
   "metadata": {},
   "source": [
    "Finally, run the gradient descent and plot the result"
   ]
  },
  {
   "cell_type": "code",
   "execution_count": 7,
   "metadata": {},
   "outputs": [
    {
     "data": {
      "image/png": "[encoded data removed]",
      "text/plain": [
       "<Figure size 432x288 with 1 Axes>"
      ]
     },
     "metadata": {
      "needs_background": "light"
     },
     "output_type": "display_data"
    }
   ],
   "source": [
    "theta = gradientDescent(train_X, train_y, [[0], [0]], 0.1, 500)\r\n",
    "plot(theta, mu, sigma)\r\n"
   ]
  },
  {
   "cell_type": "markdown",
   "metadata": {},
   "source": [
    "Now let's calculate our model's error with MSE(Mean Squared Error) and MAE(Mean Absolute Error)."
   ]
  },
  {
   "cell_type": "code",
   "execution_count": 8,
   "metadata": {},
   "outputs": [],
   "source": [
    "def meanSquaredError(X, y, theta):\r\n",
    "    E = (X @ theta)-y\r\n",
    "    return (E.T @ E)[0, 0] / (2*y.size)\r\n",
    "\r\n",
    "\r\n",
    "def meanAbsoluteError(X, y, theta):\r\n",
    "    return np.average(np.absolute((X @ theta)-y))\r\n"
   ]
  },
  {
   "cell_type": "code",
   "execution_count": 9,
   "metadata": {},
   "outputs": [],
   "source": [
    "val_X = (val_X - mu) / sigma\r\n",
    "val_X = np.c_[np.ones((len(val_X))), val_X]\r\n"
   ]
  },
  {
   "cell_type": "code",
   "execution_count": 10,
   "metadata": {},
   "outputs": [
    {
     "name": "stdout",
     "output_type": "stream",
     "text": [
      "4136722.3377445936\n",
      "2354.327409113239\n"
     ]
    }
   ],
   "source": [
    "print(meanSquaredError(val_X, val_y, theta))\r\n",
    "print(meanAbsoluteError(val_X, val_y, theta))\r\n"
   ]
  },
  {
   "cell_type": "markdown",
   "metadata": {},
   "source": [
    "Next, we will do the very same thing with more features in our data\r\n",
    "\r\n",
    "To start, we read the data into our system"
   ]
  },
  {
   "cell_type": "code",
   "execution_count": 11,
   "metadata": {},
   "outputs": [],
   "source": [
    "train_data_multi = pd.read_csv(\"train_data_multi.txt\", sep=\" \", header=None)\r\n",
    "val_data_multi = pd.read_csv(\"val_data_multi.txt\", sep=\" \", header=None)\r\n"
   ]
  },
  {
   "cell_type": "markdown",
   "metadata": {},
   "source": [
    "The data contains 5 columns and we will predict how the last column changes as other values change. \r\n",
    "\r\n",
    "We first split the data into `X` and `y` just like we did with the single-feature regressor."
   ]
  },
  {
   "cell_type": "code",
   "execution_count": 12,
   "metadata": {},
   "outputs": [],
   "source": [
    "train_X_multi = np.array(train_data_multi[[0, 1, 2, 3,4]]).reshape(-1, 5)\r\n",
    "train_y_multi = np.array(train_data_multi[[5]]).reshape(-1, 1)\r\n",
    "val_X_multi = np.array(val_data_multi[[0, 1, 2, 3,4]]).reshape(-1, 5)\r\n",
    "val_y_multi = np.array(val_data_multi[[5]]).reshape(-1, 1)\r\n"
   ]
  },
  {
   "cell_type": "markdown",
   "metadata": {},
   "source": [
    "And don't forget to normalize our data."
   ]
  },
  {
   "cell_type": "code",
   "execution_count": 13,
   "metadata": {},
   "outputs": [],
   "source": [
    "mu_multi = np.mean(train_X_multi, axis=0)\r\n",
    "sigma_multi = np.std(train_X_multi, axis=0).reshape(5,1)\r\n",
    "train_X_multi = ((train_X_multi - mu_multi).T /sigma_multi).T\r\n",
    "train_X_multi = np.c_[np.ones((len(train_X_multi))), train_X_multi]"
   ]
  },
  {
   "cell_type": "markdown",
   "metadata": {},
   "source": [
    "We now perform gradient descent on our train data."
   ]
  },
  {
   "cell_type": "code",
   "execution_count": 14,
   "metadata": {},
   "outputs": [],
   "source": [
    "theta_multi = gradientDescent(train_X_multi, train_y_multi, np.zeros((6,1)), 0.1, 100)\r\n"
   ]
  },
  {
   "cell_type": "markdown",
   "metadata": {},
   "source": [
    "Normalize validator data"
   ]
  },
  {
   "cell_type": "code",
   "execution_count": 15,
   "metadata": {},
   "outputs": [],
   "source": [
    "val_X_multi = ((val_X_multi - mu_multi).T / sigma_multi).T\r\n",
    "val_X_multi = np.c_[np.ones((len(val_X_multi))), val_X_multi]"
   ]
  },
  {
   "cell_type": "markdown",
   "metadata": {},
   "source": [
    "Print MSE and MAE of our model"
   ]
  },
  {
   "cell_type": "code",
   "execution_count": 16,
   "metadata": {},
   "outputs": [
    {
     "name": "stdout",
     "output_type": "stream",
     "text": [
      "27632189.29156031\n",
      "6078.783534218906\n"
     ]
    }
   ],
   "source": [
    "print(meanSquaredError(val_X_multi, val_y_multi, theta_multi))\r\n",
    "print(meanAbsoluteError(val_X_multi, val_y_multi, theta_multi))"
   ]
  },
  {
   "cell_type": "markdown",
   "metadata": {},
   "source": []
  }
 ],
 "metadata": {
  "interpreter": {
   "hash": "97812642d8cd8c8949e7973a11f436c182c187c2196ecb37ea708b3b465500c8"
  },
  "kernelspec": {
   "display_name": "Python 3.8.2 64-bit",
   "name": "python3"
  },
  "language_info": {
   "codemirror_mode": {
    "name": "ipython",
    "version": 3
   },
   "file_extension": ".py",
   "mimetype": "text/x-python",
   "name": "python",
   "nbconvert_exporter": "python",
   "pygments_lexer": "ipython3",
   "version": "3.8.2"
  },
  "orig_nbformat": 4
 },
 "nbformat": 4,
 "nbformat_minor": 2
}